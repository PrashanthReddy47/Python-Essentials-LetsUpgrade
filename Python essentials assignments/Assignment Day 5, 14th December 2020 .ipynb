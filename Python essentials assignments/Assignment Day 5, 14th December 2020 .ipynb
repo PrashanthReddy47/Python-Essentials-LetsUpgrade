{
 "cells": [
  {
   "cell_type": "markdown",
   "metadata": {},
   "source": [
    "# Assignment Day 5 | 14th December 2020 \n"
   ]
  },
  {
   "cell_type": "raw",
   "metadata": {},
   "source": [
    "Do the project - Develop a cryptography app in python and Upload it in Github"
   ]
  },
  {
   "cell_type": "code",
   "execution_count": 63,
   "metadata": {},
   "outputs": [
    {
     "name": "stdout",
     "output_type": "stream",
     "text": [
      "Requirement already satisfied: onetimepad in e:\\anaconda 3.7\\lib\\site-packages (1.4)\n"
     ]
    }
   ],
   "source": [
    "!pip install onetimepad"
   ]
  },
  {
   "cell_type": "code",
   "execution_count": 68,
   "metadata": {},
   "outputs": [],
   "source": [
    "# python module for one-timepad \n",
    "import onetimepad \n",
    "# python module to create GUI \n",
    "from tkinter import *\n",
    "\n",
    "\n",
    "root = Tk() \n",
    "root.title(\"CRYPTOGRAPHY UI\") \n",
    "root.geometry(\"720x170\") \n",
    "\n",
    "def encryptMessage(): \n",
    "    pt = e1.get() \n",
    "\n",
    "    # inbuilt function to encrypt a message \n",
    "    ct = onetimepad.encrypt(pt, 'random') \n",
    "    e2.insert(0, ct) \n",
    "\n",
    "def decryptMessage():\n",
    "    ct1 = e3.get() \n",
    "\n",
    "    # inbuilt function to decrypt a message \n",
    "    pt1 = onetimepad.decrypt(ct1, 'random') \n",
    "    e4.insert(0, pt1) \n",
    "    \n",
    "# creating labels and positioning them on the grid \n",
    "# Creating steps.\n",
    "label0 = Label(root, text ='Step 1: Enter your text, and press Encrypt \\n\\n Step 2: Paste your Encrypted text and press Decrypt.\\n ')\n",
    "label0.grid(row = 10, column = 5) \n",
    "l1 = Label(root, text ='Plain text')\n",
    "l1.grid(row = 11, column = 1) \n",
    "l2 = Label(root, text ='Encrypted text') \n",
    "l2.grid(row = 12, column = 1) \n",
    "l3 = Label(root, text =\"Encrypted tetxt\") \n",
    "l3.grid(row = 11, column = 10) \n",
    "l4 = Label(root, text =\"Decrypted text\") \n",
    "l4.grid(row = 12, column = 10) \n",
    "\n",
    "# creating entries and positioning them on the grid \n",
    "e1 = Entry(root) \n",
    "e1.grid(row = 11, column = 2) \n",
    "e2 = Entry(root) \n",
    "e2.grid(row = 12, column = 2) \n",
    "e3 = Entry(root) \n",
    "e3.grid(row = 11, column = 11) \n",
    "e4 = Entry(root) \n",
    "e4.grid(row = 12, column = 11) \n",
    "\n",
    "# creating encryption button to produce the output \n",
    "ent = Button(root, text = \"Encrypt\", bg =\"red\", fg =\"white\", command = encryptMessage) \n",
    "ent.grid(row = 13, column = 2) \n",
    "\n",
    "# creating decryption button to produce the output \n",
    "b2 = Button(root, text = \"Decrypt\", bg =\"purple\", fg =\"white\", command = decryptMessage) \n",
    "b2.grid(row = 13, column = 11) \n",
    "\n",
    "\n",
    "root.mainloop() \n"
   ]
  },
  {
   "cell_type": "code",
   "execution_count": null,
   "metadata": {},
   "outputs": [],
   "source": []
  }
 ],
 "metadata": {
  "kernelspec": {
   "display_name": "Python 3",
   "language": "python",
   "name": "python3"
  },
  "language_info": {
   "codemirror_mode": {
    "name": "ipython",
    "version": 3
   },
   "file_extension": ".py",
   "mimetype": "text/x-python",
   "name": "python",
   "nbconvert_exporter": "python",
   "pygments_lexer": "ipython3",
   "version": "3.7.6"
  }
 },
 "nbformat": 4,
 "nbformat_minor": 4
}
