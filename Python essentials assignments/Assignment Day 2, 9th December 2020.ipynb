{
 "cells": [
  {
   "cell_type": "markdown",
   "metadata": {},
   "source": [
    "# Assignment Day 2 | 9th December 2020"
   ]
  },
  {
   "cell_type": "code",
   "execution_count": 3,
   "metadata": {},
   "outputs": [
    {
     "name": "stdout",
     "output_type": "stream",
     "text": [
      "['How', 'are', 'you']\n"
     ]
    }
   ],
   "source": [
    "#1 Try 5 Different functions of the String in Python.\n",
    "\n",
    "'''split()\n",
    "sort()\n",
    "input\n",
    "len()\n",
    "std()'''\n",
    "\n",
    "Hi = \"How are you\"\n",
    "x = Hi.split()\n",
    "print(x)"
   ]
  },
  {
   "cell_type": "code",
   "execution_count": 19,
   "metadata": {},
   "outputs": [
    {
     "name": "stdout",
     "output_type": "stream",
     "text": [
      "['a', 'e', 'i', 'o', 'u']\n"
     ]
    }
   ],
   "source": [
    "vowles = ['a','i','e','u','o']\n",
    "\n",
    "vowles.sort()\n",
    "print(vowles)"
   ]
  },
  {
   "cell_type": "code",
   "execution_count": 24,
   "metadata": {
    "scrolled": true
   },
   "outputs": [
    {
     "name": "stdout",
     "output_type": "stream",
     "text": [
      "What's your name: James\n",
      "Hello, Nice to meet you James!\n"
     ]
    }
   ],
   "source": [
    "Name = input(str(\"What's your name: \"))\n",
    "print(\"Hello, Nice to meet you \" + Name + \"!\")"
   ]
  },
  {
   "cell_type": "code",
   "execution_count": 25,
   "metadata": {},
   "outputs": [
    {
     "data": {
      "text/plain": [
       "30"
      ]
     },
     "execution_count": 25,
     "metadata": {},
     "output_type": "execute_result"
    }
   ],
   "source": [
    "string = \"Hello, Nice to meet you James!\"\n",
    "len(string)"
   ]
  },
  {
   "cell_type": "code",
   "execution_count": 32,
   "metadata": {},
   "outputs": [
    {
     "name": "stdout",
     "output_type": "stream",
     "text": [
      "Data:  8.041930928652926\n",
      "\n",
      "Answer: 64.67265306122452\n"
     ]
    }
   ],
   "source": [
    "import numpy\n",
    "Data = [113.2,119.5,121,132.3,118.5,113,135]\n",
    "ans = numpy.std(Data)\n",
    "print(\"Data: \", ans)\n",
    "print()\n",
    "import numpy\n",
    "Data = [113.2,119.5,121,132.3,118.5,113,135]\n",
    "ans = numpy.var(Data)\n",
    "print(\"Answer:\", ans)"
   ]
  },
  {
   "cell_type": "code",
   "execution_count": 56,
   "metadata": {},
   "outputs": [
    {
     "data": {
      "text/plain": [
       "['Ferrari', 'Lamborghini', 'Rolls Royce', 'BMW', 'MercedesBenz', 'Porsche']"
      ]
     },
     "execution_count": 56,
     "metadata": {},
     "output_type": "execute_result"
    }
   ],
   "source": [
    "# Try 5 Different functions of the List object in Python\n",
    "\n",
    "cars = ['Ferrari', 'Lamborghini', 'Rolls Royce', 'BMW', 'MercedesBenz', 'Porsche']\n",
    "cars\n"
   ]
  },
  {
   "cell_type": "code",
   "execution_count": 55,
   "metadata": {},
   "outputs": [
    {
     "data": {
      "text/plain": [
       "'Jaguar'"
      ]
     },
     "execution_count": 55,
     "metadata": {},
     "output_type": "execute_result"
    }
   ],
   "source": [
    "cars[5]"
   ]
  },
  {
   "cell_type": "code",
   "execution_count": 57,
   "metadata": {},
   "outputs": [
    {
     "data": {
      "text/plain": [
       "['Ferrari',\n",
       " 'Lamborghini',\n",
       " 'Jaguar',\n",
       " 'Rolls Royce',\n",
       " 'BMW',\n",
       " 'MercedesBenz',\n",
       " 'Porsche']"
      ]
     },
     "execution_count": 57,
     "metadata": {},
     "output_type": "execute_result"
    }
   ],
   "source": [
    "cars.insert(2, 'Jaguar')\n",
    "cars"
   ]
  },
  {
   "cell_type": "code",
   "execution_count": 45,
   "metadata": {},
   "outputs": [
    {
     "data": {
      "text/plain": [
       "['Jaguar', 'Jaguar']"
      ]
     },
     "execution_count": 45,
     "metadata": {},
     "output_type": "execute_result"
    }
   ],
   "source": [
    "cars.insert(2, 'Jaguar')\n",
    "cars"
   ]
  },
  {
   "cell_type": "code",
   "execution_count": 58,
   "metadata": {},
   "outputs": [
    {
     "data": {
      "text/plain": [
       "['Ferrari', 'Lamborghini', 'Jaguar', 'BMW', 'MercedesBenz', 'Porsche']"
      ]
     },
     "execution_count": 58,
     "metadata": {},
     "output_type": "execute_result"
    }
   ],
   "source": [
    "cars.pop(3)\n",
    "cars"
   ]
  },
  {
   "cell_type": "code",
   "execution_count": 61,
   "metadata": {},
   "outputs": [
    {
     "data": {
      "text/plain": [
       "['Porsche', 'MercedesBenz', 'BMW', 'Jaguar', 'Lamborghini', 'Ferrari']"
      ]
     },
     "execution_count": 61,
     "metadata": {},
     "output_type": "execute_result"
    }
   ],
   "source": [
    "cars.reverse()\n",
    "cars"
   ]
  },
  {
   "cell_type": "code",
   "execution_count": 62,
   "metadata": {},
   "outputs": [
    {
     "data": {
      "text/plain": [
       "[]"
      ]
     },
     "execution_count": 62,
     "metadata": {},
     "output_type": "execute_result"
    }
   ],
   "source": [
    "cars.clear()\n",
    "cars"
   ]
  },
  {
   "cell_type": "code",
   "execution_count": 65,
   "metadata": {},
   "outputs": [
    {
     "data": {
      "text/plain": [
       "dict"
      ]
     },
     "execution_count": 65,
     "metadata": {},
     "output_type": "execute_result"
    }
   ],
   "source": [
    "#3 Experiment with at least 5 default functions of Dictionary\n",
    "\n",
    "dict1 = {'Porsche': 'German', 'MercedesBenz': 'German', 'BMW': 'German'}\n",
    "dict2 = {'Jaguar': 'UK', 'Lamborghini': 'Italian' , 'Ferrari': 'Italy' }\n",
    "\n",
    "type(dict1)"
   ]
  },
  {
   "cell_type": "code",
   "execution_count": 66,
   "metadata": {},
   "outputs": [
    {
     "name": "stdout",
     "output_type": "stream",
     "text": [
      "{'Porsche': 'German', 'MercedesBenz': 'German', 'BMW': 'German', 'Jaguar': 'UK', 'Lamborghini': 'Italian', 'Ferrari': 'Italy'}\n"
     ]
    }
   ],
   "source": [
    "dict1.update(dict2)\n",
    "print(dict1)"
   ]
  },
  {
   "cell_type": "code",
   "execution_count": 71,
   "metadata": {},
   "outputs": [
    {
     "data": {
      "text/plain": [
       "dict_items([('Porsche', 'German'), ('MercedesBenz', 'German'), ('BMW', 'German'), ('Jaguar', 'UK'), ('Lamborghini', 'Italian'), ('Ferrari', 'Italy')])"
      ]
     },
     "execution_count": 71,
     "metadata": {},
     "output_type": "execute_result"
    }
   ],
   "source": [
    "dict = dict1.items()\n",
    "dict"
   ]
  },
  {
   "cell_type": "code",
   "execution_count": 73,
   "metadata": {},
   "outputs": [
    {
     "data": {
      "text/plain": [
       "{'Porsche': 'German',\n",
       " 'MercedesBenz': 'German',\n",
       " 'BMW': 'German',\n",
       " 'Jaguar': 'UK',\n",
       " 'Lamborghini': 'Italian',\n",
       " 'Ferrari': 'Italy'}"
      ]
     },
     "execution_count": 73,
     "metadata": {},
     "output_type": "execute_result"
    }
   ],
   "source": [
    "car = dict1.copy()\n",
    "car"
   ]
  },
  {
   "cell_type": "code",
   "execution_count": 76,
   "metadata": {},
   "outputs": [
    {
     "data": {
      "text/plain": [
       "'UK'"
      ]
     },
     "execution_count": 76,
     "metadata": {},
     "output_type": "execute_result"
    }
   ],
   "source": [
    "dict1.get('Jaguar')"
   ]
  },
  {
   "cell_type": "code",
   "execution_count": 80,
   "metadata": {},
   "outputs": [
    {
     "data": {
      "text/plain": [
       "dict_values(['German', 'German', 'German', 'UK', 'Italian', 'Italy'])"
      ]
     },
     "execution_count": 80,
     "metadata": {},
     "output_type": "execute_result"
    }
   ],
   "source": [
    "dict1.values()"
   ]
  },
  {
   "cell_type": "code",
   "execution_count": null,
   "metadata": {},
   "outputs": [],
   "source": []
  }
 ],
 "metadata": {
  "kernelspec": {
   "display_name": "Python 3",
   "language": "python",
   "name": "python3"
  },
  "language_info": {
   "codemirror_mode": {
    "name": "ipython",
    "version": 3
   },
   "file_extension": ".py",
   "mimetype": "text/x-python",
   "name": "python",
   "nbconvert_exporter": "python",
   "pygments_lexer": "ipython3",
   "version": "3.7.6"
  }
 },
 "nbformat": 4,
 "nbformat_minor": 4
}
